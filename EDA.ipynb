{
 "cells": [
  {
   "cell_type": "code",
   "execution_count": 145,
   "id": "e1020768-aba1-4118-a1cf-a855bdd5b90a",
   "metadata": {},
   "outputs": [],
   "source": [
    "import joblib\n",
    "import seaborn as sns\n",
    "import matplotlib.pyplot as plt\n",
    "import numpy as np"
   ]
  },
  {
   "cell_type": "raw",
   "id": "3d47842d-69de-42e6-963d-87a414d37288",
   "metadata": {},
   "source": [
    "#load all data\n",
    "%%time\n",
    "data_jlib = joblib.load(\"inference_dataset_python_3_9_16.h5\")\n",
    "print(\"success!\")"
   ]
  },
  {
   "cell_type": "code",
   "execution_count": 3,
   "id": "92561560-f4da-4a45-95e5-f304486ecfb3",
   "metadata": {},
   "outputs": [
    {
     "data": {
      "text/plain": [
       "564100"
      ]
     },
     "execution_count": 3,
     "metadata": {},
     "output_type": "execute_result"
    }
   ],
   "source": [
    "#total number of reports\n",
    "len(data_jlib)\n",
    "#564100"
   ]
  },
  {
   "cell_type": "code",
   "execution_count": 4,
   "id": "3e483642-799f-4a3b-adbf-67b202d3fc63",
   "metadata": {},
   "outputs": [],
   "source": [
    "#data_xray = data_jlib.copy()"
   ]
  },
  {
   "cell_type": "raw",
   "id": "85c717cb-af37-4443-b3fe-303ba37bf0b0",
   "metadata": {},
   "source": [
    "#filter out xray reports\n",
    "xray_dict = {}\n",
    "for report_key in data_jlib.keys():\n",
    "    if 'modality' in data_jlib[report_key]:\n",
    "        if data_jlib[report_key]['modality'] == 'XRAY':\n",
    "            xray_dict[report_key] = data_jlib[report_key]\n",
    "    else:\n",
    "        continue"
   ]
  },
  {
   "cell_type": "raw",
   "id": "cd3750a2-f070-48f9-aab1-6e82e6fd11d1",
   "metadata": {},
   "source": [
    "#export all xray reports as h5 file\n",
    "joblib.dump(xray_dict, 'xray_reports.h5')"
   ]
  },
  {
   "cell_type": "code",
   "execution_count": 29,
   "id": "2b5f0266-d1eb-49c6-afce-c39c16ec1ab2",
   "metadata": {},
   "outputs": [
    {
     "name": "stdout",
     "output_type": "stream",
     "text": [
      "success!\n",
      "CPU times: user 2min 21s, sys: 12min 21s, total: 14min 42s\n",
      "Wall time: 32min 31s\n"
     ]
    }
   ],
   "source": [
    "#load xray reports h5 file\n",
    "%%time\n",
    "xray_jlib = joblib.load(\"xray_reports.h5\")\n",
    "print(\"success!\")"
   ]
  },
  {
   "cell_type": "code",
   "execution_count": 25,
   "id": "507e2c22-2039-4ef6-8137-3a36e1e8b063",
   "metadata": {},
   "outputs": [
    {
     "data": {
      "text/plain": [
       "152319"
      ]
     },
     "execution_count": 25,
     "metadata": {},
     "output_type": "execute_result"
    }
   ],
   "source": [
    "#number of xray reports\n",
    "len(xray_dict)"
   ]
  },
  {
   "cell_type": "code",
   "execution_count": 31,
   "id": "37f8a080-4c5d-4098-8758-6a1177bbf750",
   "metadata": {},
   "outputs": [],
   "source": [
    "#check if every entry has XRAY as modality\n",
    "for report_key in xray_jlib.keys():\n",
    "    if 'modality' in xray_jlib[report_key]:\n",
    "        if xray_jlib[report_key]['modality'] != 'XRAY':\n",
    "            print(xray_jlib[report_key]['modality'])\n",
    "    else:\n",
    "        continue"
   ]
  },
  {
   "cell_type": "code",
   "execution_count": 40,
   "id": "3ed864a4-1aa8-461b-917d-83657083813d",
   "metadata": {},
   "outputs": [
    {
     "data": {
      "text/plain": [
       "{'report_id': 0,\n",
       " 'modality': 'XRAY',\n",
       " 'clinical_information': {'clinical_information': '34 years old female with history of sickle cell disease status post right total shoulder. Evaluate for component placement.',\n",
       "  'age': '34.0',\n",
       "  'gender': 'female',\n",
       "  'background': {'sickle cell disease': {'clinical finding': 'sickle cell disease',\n",
       "    'cf_snomed': {'disease': 64572001},\n",
       "    'existence': 'unc_dx',\n",
       "    'descriptive_term': 'sickle cell',\n",
       "    'observation': 'disease'}}},\n",
       " 'findings_group': {'findings': 'The right total shoulder arthroplasty components are in anatomic alignment. There is no evidence of fracture or dislocation',\n",
       "  'findings_sentences': {'Sentence-1': {'report_sid_fin': 0.0,\n",
       "    'sentence_fin': 'the right total shoulder arthroplasty components are in anatomic alignment',\n",
       "    'anatomical entity_fin': {'shoulder': {}},\n",
       "    'location descriptor_fin': ['right'],\n",
       "    'procedure_fin': ['arthroplasty'],\n",
       "    'clinical findings_fin': {'anatomic alignment': {'clinical finding': 'anatomic alignment',\n",
       "      'existence': 'pos_dx',\n",
       "      'descriptive_term': 'anatomic',\n",
       "      'observation': 'alignment'}}},\n",
       "   'Sentence-2': {'report_sid_fin': 1.0,\n",
       "    'sentence_fin': 'there is no evidence of fracture or dislocation',\n",
       "    'clinical findings_fin': {'fracture': {'clinical finding': 'fracture',\n",
       "      'cf_snomed': {'fracture': 72704001},\n",
       "      'existence': 'neg_dx',\n",
       "      'observation': 'fracture'},\n",
       "     'dislocation': {'clinical finding': 'dislocation',\n",
       "      'cf_snomed': {'dislocation': 87642003},\n",
       "      'existence': 'neg_dx',\n",
       "      'observation': 'dislocation'}}}}},\n",
       " 'impression_group': {'impression': 'Right total shoulder arthroplasty components in anatomic alignment',\n",
       "  'impression_sentences': {'Sentence-1': {'report_sid': 0.0,\n",
       "    'sentence': 'right total shoulder arthroplasty components in anatomic alignment',\n",
       "    'anatomical entity': {'shoulder': {}},\n",
       "    'location descriptor': ['right'],\n",
       "    'procedure': ['arthroplasty'],\n",
       "    'clinical findings': {'anatomic alignment': {'clinical finding': 'anatomic alignment',\n",
       "      'existence': 'pos_dx',\n",
       "      'descriptive_term': 'anatomic',\n",
       "      'observation': 'alignment'}}}}}}"
      ]
     },
     "execution_count": 40,
     "metadata": {},
     "output_type": "execute_result"
    }
   ],
   "source": [
    "xray_jlib['Report_1']"
   ]
  },
  {
   "cell_type": "markdown",
   "id": "84147687-7617-4d88-829a-051d8958d2a3",
   "metadata": {},
   "source": [
    "### EDA"
   ]
  },
  {
   "cell_type": "markdown",
   "id": "eaffed40-e17d-4012-82f9-e6c2b0ad26c3",
   "metadata": {},
   "source": [
    "#### Keys in each report"
   ]
  },
  {
   "cell_type": "code",
   "execution_count": 175,
   "id": "1cb4c161-a387-42d6-959e-aeb0aeb0cd50",
   "metadata": {},
   "outputs": [
    {
     "data": {
      "text/plain": [
       "dict_keys(['report_id', 'modality', 'clinical_information', 'findings_group', 'impression_group'])"
      ]
     },
     "execution_count": 175,
     "metadata": {},
     "output_type": "execute_result"
    }
   ],
   "source": [
    "xray_jlib['Report_1'].keys()"
   ]
  },
  {
   "cell_type": "markdown",
   "id": "00f14187-8fda-412a-9df7-f77e4ff09afe",
   "metadata": {},
   "source": [
    "#### Clinical information"
   ]
  },
  {
   "cell_type": "code",
   "execution_count": 44,
   "id": "0dc09cfc-3a00-449d-a37a-95c09eceef8c",
   "metadata": {},
   "outputs": [
    {
     "data": {
      "text/plain": [
       "{'clinical_information': '34 years old female with history of sickle cell disease status post right total shoulder. Evaluate for component placement.',\n",
       " 'age': '34.0',\n",
       " 'gender': 'female',\n",
       " 'background': {'sickle cell disease': {'clinical finding': 'sickle cell disease',\n",
       "   'cf_snomed': {'disease': 64572001},\n",
       "   'existence': 'unc_dx',\n",
       "   'descriptive_term': 'sickle cell',\n",
       "   'observation': 'disease'}}}"
      ]
     },
     "execution_count": 44,
     "metadata": {},
     "output_type": "execute_result"
    }
   ],
   "source": [
    "xray_jlib['Report_1']['clinical_information']"
   ]
  },
  {
   "cell_type": "code",
   "execution_count": 103,
   "id": "5859dd1d-8272-45d8-924a-41fcd98d3367",
   "metadata": {},
   "outputs": [
    {
     "data": {
      "text/plain": [
       "0.07679934873522017"
      ]
     },
     "execution_count": 103,
     "metadata": {},
     "output_type": "execute_result"
    }
   ],
   "source": [
    "# percentage of reports with no clinical information\n",
    "empty_clinical_info = 0\n",
    "\n",
    "for report in xray_jlib.values():\n",
    "    if 'clinical_information' in report:\n",
    "        if (len(report['clinical_information'].values())==1) | ('empty.' in report['clinical_information'].values()):\n",
    "            empty_clinical_info += 1\n",
    "\n",
    "empty_clinical_info/len(xray_jlib)"
   ]
  },
  {
   "cell_type": "markdown",
   "id": "0b31428e-bff7-477e-b289-8f1b227db8f3",
   "metadata": {},
   "source": [
    "##### Age"
   ]
  },
  {
   "cell_type": "code",
   "execution_count": 47,
   "id": "0a5e6a85-7789-475e-8de7-21b393ab51ab",
   "metadata": {},
   "outputs": [
    {
     "data": {
      "text/plain": [
       "'34.0'"
      ]
     },
     "execution_count": 47,
     "metadata": {},
     "output_type": "execute_result"
    }
   ],
   "source": [
    "xray_jlib['Report_1']['clinical_information']['age']"
   ]
  },
  {
   "cell_type": "code",
   "execution_count": 153,
   "id": "40073978-04cd-4af2-82cb-4a7a6feb555d",
   "metadata": {},
   "outputs": [],
   "source": [
    "#get all ages\n",
    "ages = []\n",
    "\n",
    "for report in xray_jlib.values():\n",
    "    if 'clinical_information' in report:\n",
    "        age = report['clinical_information'].get('age')\n",
    "        if age is not None:\n",
    "            ages.append(float(age))\n",
    "        else:\n",
    "            ages.append(None)"
   ]
  },
  {
   "cell_type": "code",
   "execution_count": 154,
   "id": "c042d2ca-2300-4b44-9091-51709a5597ee",
   "metadata": {},
   "outputs": [
    {
     "data": {
      "text/plain": [
       "67023"
      ]
     },
     "execution_count": 154,
     "metadata": {},
     "output_type": "execute_result"
    }
   ],
   "source": [
    "#no age record\n",
    "ages.count(None)"
   ]
  },
  {
   "cell_type": "code",
   "execution_count": 155,
   "id": "2006c96a-4d37-4511-8312-9c941f09635c",
   "metadata": {},
   "outputs": [
    {
     "data": {
      "image/png": "[encoded data removed]",
      "text/plain": [
       "<Figure size 640x480 with 1 Axes>"
      ]
     },
     "metadata": {},
     "output_type": "display_data"
    }
   ],
   "source": [
    "sns.distplot(ages, bins=10, kde=False)\n",
    "plt.xlabel('Age')\n",
    "plt.ylabel('Count')\n",
    "plt.title('Age Distribution')\n",
    "plt.show()\n"
   ]
  },
  {
   "cell_type": "markdown",
   "id": "fc98fb8e-2939-4b77-8222-fd92c3c730a0",
   "metadata": {},
   "source": [
    "##### gender"
   ]
  },
  {
   "cell_type": "code",
   "execution_count": 78,
   "id": "c73a472a-dd6e-4071-a93d-6d6b3bb500b7",
   "metadata": {},
   "outputs": [],
   "source": [
    "genders = []\n",
    "\n",
    "for report in xray_jlib.values():\n",
    "    if 'clinical_information' in report:\n",
    "        gender = report['clinical_information'].get('gender')\n",
    "        if gender is not None:\n",
    "            genders.append(gender)\n",
    "        else:\n",
    "            genders.append('null')"
   ]
  },
  {
   "cell_type": "code",
   "execution_count": 79,
   "id": "3086e1e6-6b6d-4888-8eab-f72460027cce",
   "metadata": {},
   "outputs": [
    {
     "data": {
      "text/plain": [
       "{'null': 60950, 'male': 44779, 'female': 46534}"
      ]
     },
     "execution_count": 79,
     "metadata": {},
     "output_type": "execute_result"
    }
   ],
   "source": [
    "dict((x,genders.count(x)) for x in set(genders))"
   ]
  },
  {
   "cell_type": "code",
   "execution_count": 159,
   "id": "42245332-6db2-4ee9-8c53-67a95e7fae9e",
   "metadata": {},
   "outputs": [
    {
     "data": {
      "text/plain": [
       "0.49039019635758324"
      ]
     },
     "execution_count": 159,
     "metadata": {},
     "output_type": "execute_result"
    }
   ],
   "source": [
    "#percentage of male\n",
    "44779/(46534+44779)"
   ]
  },
  {
   "cell_type": "code",
   "execution_count": 67,
   "id": "4b501189-f52f-402e-bb0c-cedd3c5be237",
   "metadata": {},
   "outputs": [
    {
     "data": {
      "image/png": "[encoded data removed]",
      "text/plain": [
       "<Figure size 640x480 with 1 Axes>"
      ]
     },
     "metadata": {},
     "output_type": "display_data"
    }
   ],
   "source": [
    "sns.histplot(genders, kde=False)\n",
    "plt.xlabel('Gender')\n",
    "plt.ylabel('Count')\n",
    "plt.title('Gender Distribution')\n",
    "plt.show()"
   ]
  },
  {
   "cell_type": "markdown",
   "id": "d8a8454f-3592-4b71-ab60-70c1af3aecce",
   "metadata": {},
   "source": [
    "##### background"
   ]
  },
  {
   "cell_type": "code",
   "execution_count": 73,
   "id": "e1700dd5-23f9-4052-8c0a-6b12d82379bd",
   "metadata": {},
   "outputs": [
    {
     "data": {
      "text/plain": [
       "{'sickle cell disease': {'clinical finding': 'sickle cell disease',\n",
       "  'cf_snomed': {'disease': 64572001},\n",
       "  'existence': 'unc_dx',\n",
       "  'descriptive_term': 'sickle cell',\n",
       "  'observation': 'disease'}}"
      ]
     },
     "execution_count": 73,
     "metadata": {},
     "output_type": "execute_result"
    }
   ],
   "source": [
    "#only one disease\n",
    "xray_jlib['Report_1']['clinical_information'].get('background')"
   ]
  },
  {
   "cell_type": "code",
   "execution_count": 117,
   "id": "0f7540e4-7223-46d7-be60-70f350b8afeb",
   "metadata": {},
   "outputs": [
    {
     "data": {
      "text/plain": [
       "{'thoracotomy': {'clinical finding': 'thoracotomy',\n",
       "  'existence': 'pos_dx',\n",
       "  'observation': 'thoracotomy'},\n",
       " 'question right pneumothorax': {'clinical finding': 'question right pneumothorax',\n",
       "  'cf_snomed': {'right pneumothorax': 109363001},\n",
       "  'existence': 'pos_dx',\n",
       "  'descriptive_term': 'question right',\n",
       "  'observation': 'pneumothorax'}}"
      ]
     },
     "execution_count": 117,
     "metadata": {},
     "output_type": "execute_result"
    }
   ],
   "source": [
    "#more than one disease\n",
    "xray_jlib['Report_64']['clinical_information'].get('background')"
   ]
  },
  {
   "cell_type": "code",
   "execution_count": 109,
   "id": "54c59725-7e29-4cd6-ad58-731b4ed7b152",
   "metadata": {},
   "outputs": [
    {
     "data": {
      "text/plain": [
       "[['sickle cell disease'],\n",
       " ['low back pain'],\n",
       " ['dobbhoff tube'],\n",
       " ['free air'],\n",
       " ['hemoglobin'],\n",
       " ['question pneumonia'],\n",
       " ['thoracotomy', 'question right pneumothorax'],\n",
       " ['worsening left pneumothorax'],\n",
       " ['myocardial infarction'],\n",
       " ['myocardial infarction']]"
      ]
     },
     "execution_count": 109,
     "metadata": {},
     "output_type": "execute_result"
    }
   ],
   "source": [
    "#all diseases\n",
    "diseases = []\n",
    "            \n",
    "for report in xray_jlib.values():\n",
    "    if ('clinical_information' in report):\n",
    "        if report['clinical_information'].get('background') is not None:\n",
    "            disease = list(report['clinical_information'].get('background').keys())\n",
    "            if disease is not None:\n",
    "                diseases.append(disease)\n",
    "            else:\n",
    "                diseases.append('Null')\n",
    "\n",
    "diseases[:10]"
   ]
  },
  {
   "cell_type": "code",
   "execution_count": 176,
   "id": "22449e6c-aa9d-4583-9684-3d2e9a5ac709",
   "metadata": {},
   "outputs": [
    {
     "name": "stdout",
     "output_type": "stream",
     "text": [
      "[['sickle cell disease'], ['low back pain'], ['dobbhoff tube'], ['free air'], ['hemoglobin'], ['question pneumonia'], ['thoracotomy', 'question right pneumothorax'], ['worsening left pneumothorax'], ['myocardial infarction'], ['myocardial infarction'], ['myocardial infarction'], ['desaturation', 'pneumonia'], ['chronic renal disease'], ['right pneumothorax'], ['post chest tube']]\n"
     ]
    }
   ],
   "source": [
    "print(diseases[:15])"
   ]
  },
  {
   "cell_type": "markdown",
   "id": "75b17373-38cc-4e03-9207-e3051fce303d",
   "metadata": {},
   "source": [
    "#### findings_group"
   ]
  },
  {
   "cell_type": "code",
   "execution_count": 164,
   "id": "fab8ce02-678d-43d5-b73b-05690a207d47",
   "metadata": {},
   "outputs": [
    {
     "data": {
      "text/plain": [
       "{'findings': 'The colon is adequately cleansed and distended. There is a small to moderate amount of mostly well-tagged fluid and liquid stool. Few diminutive foci that are not tagged. No significant colonic polyps or masses identified. CT colonography is not intended for the detection of diminutive colonic polyps , the presence or absence of which will not change management of the patient. EXTRACOLONIC',\n",
       " 'findings_sentences': {'Sentence-1': {'report_sid_fin': 6.0,\n",
       "   'sentence_fin': 'the colon is adequately cleansed and distended',\n",
       "   'imaging observation_fin': ['colon'],\n",
       "   'clinical findings_fin': {'cleansed': {'clinical finding': 'cleansed',\n",
       "     'existence': 'pos_dx',\n",
       "     'observation': 'cleansed'},\n",
       "    'distended': {'clinical finding': 'distended',\n",
       "     'existence': 'pos_dx',\n",
       "     'observation': 'distended'}}},\n",
       "  'Sentence-2': {'report_sid_fin': 7.0,\n",
       "   'sentence_fin': 'there is a small to moderate amount of mostly well-tagged fluid and liquid stool',\n",
       "   'anatomical entity_fin': {'fluid': {}},\n",
       "   'clinical findings_fin': {'liquid stool': {'clinical finding': 'liquid stool',\n",
       "     'cf_snomed': {'liquid': 264312008},\n",
       "     'existence': 'pos_dx',\n",
       "     'descriptive_term': 'liquid',\n",
       "     'observation': 'stool'}}},\n",
       "  'Sentence-3': {'report_sid_fin': 8.0,\n",
       "   'sentence_fin': 'few diminutive foci that are not tagged',\n",
       "   'imaging observation_fin': ['foci'],\n",
       "   'clinical findings_fin': {'few diminutive foci': {'clinical finding': 'few diminutive foci',\n",
       "     'existence': 'neg_dx',\n",
       "     'descriptive_term': 'few diminutive',\n",
       "     'observation': 'foci',\n",
       "     'quantity_term': 'few'}}},\n",
       "  'Sentence-4': {'report_sid_fin': 9.0,\n",
       "   'sentence_fin': 'no significant colonic polyps or masses identified',\n",
       "   'clinical findings_fin': {'significant colonic polyps': {'clinical finding': 'significant colonic polyps',\n",
       "     'existence': 'neg_dx',\n",
       "     'descriptive_term': 'significant colonic',\n",
       "     'observation': 'polyps'},\n",
       "    'masses': {'clinical finding': 'masses',\n",
       "     'existence': 'neg_dx',\n",
       "     'observation': 'mass'}}},\n",
       "  'Sentence-5': {'report_sid_fin': 10.0,\n",
       "   'sentence_fin': 'ct colonography is not intended for the detection of diminutive colonic polyps , the presence or absence of which will not change management of the patient',\n",
       "   'procedure_fin': ['colonography'],\n",
       "   'clinical findings_fin': {'diminutive colonic polyps': {'clinical finding': 'diminutive colonic polyps',\n",
       "     'existence': 'neg_dx',\n",
       "     'descriptive_term': 'diminutive colonic',\n",
       "     'observation': 'polyps'},\n",
       "    'change': {'clinical finding': 'change',\n",
       "     'existence': 'neg_dx',\n",
       "     'observation': 'change'}}},\n",
       "  'Sentence-6': {'report_sid_fin': 11.0, 'sentence_fin': 'extracolonic'}}}"
      ]
     },
     "execution_count": 164,
     "metadata": {},
     "output_type": "execute_result"
    }
   ],
   "source": [
    "xray_jlib['Report_3']['findings_group']"
   ]
  },
  {
   "cell_type": "code",
   "execution_count": 166,
   "id": "179239bc-718a-435d-9675-82a393c208b3",
   "metadata": {},
   "outputs": [
    {
     "name": "stdout",
     "output_type": "stream",
     "text": [
      "dict_keys(['report_sid_fin', 'sentence_fin', 'imaging observation_fin', 'clinical findings_fin'])\n",
      "dict_keys(['report_sid_fin', 'sentence_fin', 'anatomical entity_fin', 'clinical findings_fin'])\n",
      "dict_keys(['report_sid_fin', 'sentence_fin', 'imaging observation_fin', 'clinical findings_fin'])\n",
      "dict_keys(['report_sid_fin', 'sentence_fin', 'clinical findings_fin'])\n",
      "dict_keys(['report_sid_fin', 'sentence_fin', 'procedure_fin', 'clinical findings_fin'])\n"
     ]
    }
   ],
   "source": [
    "print(xray_jlib['Report_3']['findings_group']['findings_sentences']['Sentence-1'].keys())\n",
    "print(xray_jlib['Report_3']['findings_group']['findings_sentences']['Sentence-2'].keys())\n",
    "print(xray_jlib['Report_3']['findings_group']['findings_sentences']['Sentence-3'].keys())\n",
    "print(xray_jlib['Report_3']['findings_group']['findings_sentences']['Sentence-4'].keys())\n",
    "print(xray_jlib['Report_3']['findings_group']['findings_sentences']['Sentence-5'].keys())"
   ]
  },
  {
   "cell_type": "markdown",
   "id": "6b59140f-e80d-4954-accf-e99a317146dd",
   "metadata": {},
   "source": [
    "Each sentence can have different labels. "
   ]
  },
  {
   "cell_type": "code",
   "execution_count": 125,
   "id": "2b764928-01bf-4936-981e-3a20ef25ad5a",
   "metadata": {},
   "outputs": [],
   "source": [
    "for report in xray_jlib.values():\n",
    "    if 'findings_group' not in report:\n",
    "        print(report)\n",
    "#all reports have finding sections"
   ]
  },
  {
   "cell_type": "code",
   "execution_count": 129,
   "id": "ebd1aeee-609a-4776-a0b3-450e68d13192",
   "metadata": {},
   "outputs": [],
   "source": [
    "for report in xray_jlib.values():\n",
    "    if len(report['findings_group']['findings']) == 0:\n",
    "        print(report, \" has finding section but it is empty\")\n",
    "        \n",
    "#no reports have empty finding sections"
   ]
  },
  {
   "cell_type": "markdown",
   "id": "61a77633-33dd-44a8-9494-476909dba034",
   "metadata": {},
   "source": [
    "##### findings_sentences"
   ]
  },
  {
   "cell_type": "code",
   "execution_count": 136,
   "id": "378aec3e-457c-4429-82d4-5a0e0f3b9f7d",
   "metadata": {},
   "outputs": [
    {
     "data": {
      "text/plain": [
       "dict_keys(['report_sid_fin', 'sentence_fin', 'anatomical entity_fin', 'location descriptor_fin', 'procedure_fin', 'clinical findings_fin'])"
      ]
     },
     "execution_count": 136,
     "metadata": {},
     "output_type": "execute_result"
    }
   ],
   "source": [
    "# What labels do we have in each findings sentence?\n",
    "xray_jlib['Report_1']['findings_group']['findings_sentences']['Sentence-1'].keys()"
   ]
  },
  {
   "cell_type": "code",
   "execution_count": 137,
   "id": "7377fb19-c015-4616-b325-03b83800b5ce",
   "metadata": {},
   "outputs": [],
   "source": [
    "#How many sentences do each report's findings section has?\n",
    "finding_sentences = []\n",
    "\n",
    "for report in xray_jlib.values():\n",
    "    if 'findings_group' in report:\n",
    "        num = len(report['findings_group']['findings_sentences'])\n",
    "        if num is not None:\n",
    "            finding_sentences.append(num)\n",
    "        else:\n",
    "            finding_sentences.append(0)"
   ]
  },
  {
   "cell_type": "code",
   "execution_count": 138,
   "id": "e933dd99-b82f-4357-b5ce-2ec1ca30d764",
   "metadata": {},
   "outputs": [
    {
     "data": {
      "text/plain": [
       "{1: 3141,\n",
       " 2: 20026,\n",
       " 3: 39015,\n",
       " 4: 37028,\n",
       " 5: 25102,\n",
       " 6: 13798,\n",
       " 7: 6610,\n",
       " 8: 3270,\n",
       " 9: 1568,\n",
       " 10: 912,\n",
       " 11: 576,\n",
       " 12: 334,\n",
       " 13: 234,\n",
       " 14: 155,\n",
       " 15: 117,\n",
       " 16: 76,\n",
       " 17: 72,\n",
       " 18: 54,\n",
       " 19: 45,\n",
       " 20: 28,\n",
       " 21: 20,\n",
       " 22: 25,\n",
       " 23: 20,\n",
       " 24: 17,\n",
       " 25: 16,\n",
       " 26: 13,\n",
       " 27: 10,\n",
       " 28: 6,\n",
       " 29: 5,\n",
       " 30: 5,\n",
       " 31: 3,\n",
       " 32: 5,\n",
       " 33: 4,\n",
       " 34: 1,\n",
       " 35: 2,\n",
       " 37: 1,\n",
       " 38: 3,\n",
       " 40: 1,\n",
       " 41: 1}"
      ]
     },
     "execution_count": 138,
     "metadata": {},
     "output_type": "execute_result"
    }
   ],
   "source": [
    "dict((x,finding_sentences.count(x)) for x in set(finding_sentences))"
   ]
  },
  {
   "cell_type": "code",
   "execution_count": 124,
   "id": "123e538c-dc8b-4248-b93a-92ebe287a69a",
   "metadata": {},
   "outputs": [
    {
     "data": {
      "image/png": "[encoded data removed]",
      "text/plain": [
       "<Figure size 640x480 with 1 Axes>"
      ]
     },
     "metadata": {},
     "output_type": "display_data"
    }
   ],
   "source": [
    "sns.distplot(finding_sentences, bins=20, kde=False)\n",
    "plt.xlabel('Number of finding_sentences in each report')\n",
    "plt.ylabel('Count')\n",
    "plt.title('Finding Sentences Distribution')\n",
    "plt.show()"
   ]
  },
  {
   "cell_type": "code",
   "execution_count": null,
   "id": "5c49cda4-f714-4dc6-b58a-fda3d2257f66",
   "metadata": {},
   "outputs": [],
   "source": []
  },
  {
   "cell_type": "markdown",
   "id": "daa99262-215e-420b-9a2f-47adceb321f0",
   "metadata": {},
   "source": [
    "'Report_1', 'Report_2', 'Report_3', 'Report_11', 'Report_12', 'Report_61', 'Report_63', 'Report_64', 'Report_66', 'Report_67', 'Report_68', 'Report_69', 'Report_70', 'Report_71', 'Report_73', 'Report_74', 'Report_75', 'Report_77', 'Report_78', 'Report_80', 'Report_81', 'Report_82', 'Report_83', 'Report_84', 'Report_85', 'Report_87', 'Report_88', 'Report_89', 'Report_90', 'Report_91', 'Report_93', 'Report_94', 'Report_95', 'Report_96', 'Report_97', 'Report_98', 'Report_99', 'Report_100', 'Report_101', 'Report_102', 'Report_103', 'Report_105', 'Report_106', 'Report_107', 'Report_109', 'Report_111', 'Report_112', 'Report_113', 'Report_116', 'Report_117', 'Report_118', 'Report_120', 'Report_123', 'Report_126', 'Report_128', 'Report_149', 'Report_150', 'Report_151', 'Report_152', 'Report_153', 'Report_154', 'Report_155', 'Report_156', 'Report_157', 'Report_158', 'Report_159', 'Report_160', 'Report_161', 'Report_162'"
   ]
  },
  {
   "cell_type": "markdown",
   "id": "f1e914bd-7b88-4a5d-bd07-2bb1fb18cd09",
   "metadata": {},
   "source": [
    "#### impression_group"
   ]
  },
  {
   "cell_type": "code",
   "execution_count": 182,
   "id": "3fac7a2d-02f2-4854-99cb-a6f74805e3f5",
   "metadata": {},
   "outputs": [
    {
     "data": {
      "text/plain": [
       "{'impression': 'No significant cardiopulmonary abnormality.',\n",
       " 'impression_sentences': {'Sentence-1': {'report_sid': 147.0,\n",
       "   'sentence': 'no significant cardiopulmonary abnormality',\n",
       "   'clinical findings': {'significant cardiopulmonary abnormality': {'clinical finding': 'significant cardiopulmonary abnormality',\n",
       "     'existence': 'neg_dx',\n",
       "     'descriptive_term': 'significant cardiopulmonary',\n",
       "     'observation': 'abnormality'}}}}}"
      ]
     },
     "execution_count": 182,
     "metadata": {},
     "output_type": "execute_result"
    }
   ],
   "source": [
    "xray_jlib['Report_63']['impression_group']"
   ]
  },
  {
   "cell_type": "code",
   "execution_count": 130,
   "id": "c00833ff-c4f8-4d76-9df6-ee58f6489ba0",
   "metadata": {},
   "outputs": [],
   "source": [
    "for report in xray_jlib.values():\n",
    "    if 'impression_group' not in report:\n",
    "        print(report)\n",
    "#all reports have impression sections"
   ]
  },
  {
   "cell_type": "code",
   "execution_count": 131,
   "id": "ab92c3c7-6673-4088-903b-8b206a835e72",
   "metadata": {},
   "outputs": [],
   "source": [
    "for report in xray_jlib.values():\n",
    "    if len(report['impression_group']['impression']) == 0:\n",
    "        print(report, \" has impression section but it is empty\")\n",
    "        \n",
    "#no reports have empty impression sections"
   ]
  },
  {
   "cell_type": "markdown",
   "id": "3660e83f-66ac-43b0-b64a-ac40e03b4f95",
   "metadata": {},
   "source": [
    "#### impression_sentences"
   ]
  },
  {
   "cell_type": "code",
   "execution_count": 183,
   "id": "76e1db65-a2f8-437d-8d20-111f84d8984f",
   "metadata": {},
   "outputs": [
    {
     "name": "stdout",
     "output_type": "stream",
     "text": [
      "dict_keys(['report_sid', 'sentence', 'anatomical entity', 'location descriptor', 'clinical findings'])\n",
      "dict_keys(['report_sid', 'sentence'])\n",
      "dict_keys(['report_sid', 'sentence', 'clinical findings'])\n",
      "dict_keys(['report_sid', 'sentence'])\n",
      "dict_keys(['report_sid', 'sentence', 'clinical findings'])\n",
      "dict_keys(['report_sid', 'sentence'])\n",
      "dict_keys(['report_sid', 'sentence', 'clinical findings'])\n"
     ]
    }
   ],
   "source": [
    "# What labels do we have in each impression sentence?\n",
    "print(xray_jlib['Report_152']['impression_group']['impression_sentences']['Sentence-1'].keys())\n",
    "print(xray_jlib['Report_3']['impression_group']['impression_sentences']['Sentence-2'].keys())\n",
    "print(xray_jlib['Report_3']['impression_group']['impression_sentences']['Sentence-3'].keys())\n",
    "print(xray_jlib['Report_3']['impression_group']['impression_sentences']['Sentence-4'].keys())\n",
    "print(xray_jlib['Report_3']['impression_group']['impression_sentences']['Sentence-5'].keys())\n",
    "print(xray_jlib['Report_3']['impression_group']['impression_sentences']['Sentence-6'].keys())\n",
    "print(xray_jlib['Report_3']['impression_group']['impression_sentences']['Sentence-7'].keys())"
   ]
  },
  {
   "cell_type": "code",
   "execution_count": null,
   "id": "6ba9e4f7-d7ed-4533-93ca-b187db46e8a7",
   "metadata": {},
   "outputs": [],
   "source": []
  },
  {
   "cell_type": "code",
   "execution_count": 139,
   "id": "6d969bb7-48be-4735-9d8e-98a9a21d494c",
   "metadata": {},
   "outputs": [],
   "source": [
    "#How many sentences do each report's findings section has?\n",
    "impression_sentences = []\n",
    "\n",
    "for report in xray_jlib.values():\n",
    "    if 'impression_group' in report:\n",
    "        num = len(report['impression_group']['impression_sentences'])\n",
    "        if num is not None:\n",
    "            impression_sentences.append(num)\n",
    "        else:\n",
    "            impression_sentences.append(0)"
   ]
  },
  {
   "cell_type": "code",
   "execution_count": 140,
   "id": "35cec4b5-6d1e-4a99-803e-407c0c749a05",
   "metadata": {},
   "outputs": [
    {
     "data": {
      "text/plain": [
       "{1: 98725,\n",
       " 2: 42011,\n",
       " 3: 9100,\n",
       " 4: 1871,\n",
       " 5: 417,\n",
       " 6: 93,\n",
       " 7: 39,\n",
       " 8: 30,\n",
       " 9: 14,\n",
       " 10: 8,\n",
       " 11: 5,\n",
       " 12: 2,\n",
       " 15: 2,\n",
       " 16: 1,\n",
       " 17: 1}"
      ]
     },
     "execution_count": 140,
     "metadata": {},
     "output_type": "execute_result"
    }
   ],
   "source": [
    "dict((x,impression_sentences.count(x)) for x in set(impression_sentences))"
   ]
  },
  {
   "cell_type": "code",
   "execution_count": 141,
   "id": "929f6005-aba8-4c4c-8614-300f93e48782",
   "metadata": {},
   "outputs": [
    {
     "data": {
      "image/png": "[encoded data removed]",
      "text/plain": [
       "<Figure size 640x480 with 1 Axes>"
      ]
     },
     "metadata": {},
     "output_type": "display_data"
    }
   ],
   "source": [
    "sns.distplot(impression_sentences, bins=20, kde=False)\n",
    "plt.xlabel('Number of impression_sentences in each report')\n",
    "plt.ylabel('Count')\n",
    "plt.title('Impression Sentences Distribution')\n",
    "plt.show()"
   ]
  },
  {
   "cell_type": "code",
   "execution_count": null,
   "id": "05a69fb5-a7d4-4dba-b9fd-825eb6893d50",
   "metadata": {},
   "outputs": [],
   "source": []
  }
 ],
 "metadata": {
  "kernelspec": {
   "display_name": "Python 3 (ipykernel)",
   "language": "python",
   "name": "python3"
  },
  "language_info": {
   "codemirror_mode": {
    "name": "ipython",
    "version": 3
   },
   "file_extension": ".py",
   "mimetype": "text/x-python",
   "name": "python",
   "nbconvert_exporter": "python",
   "pygments_lexer": "ipython3",
   "version": "3.9.13"
  }
 },
 "nbformat": 4,
 "nbformat_minor": 5
}
